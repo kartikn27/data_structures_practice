{
 "cells": [
  {
   "cell_type": "code",
   "execution_count": 17,
   "metadata": {},
   "outputs": [],
   "source": [
    "def sum1(n):\n",
    "    final = 0\n",
    "    for i in range(0,n+1):\n",
    "        final = final + i\n",
    "    return final"
   ]
  },
  {
   "cell_type": "code",
   "execution_count": 18,
   "metadata": {},
   "outputs": [
    {
     "data": {
      "text/plain": [
       "55"
      ]
     },
     "execution_count": 18,
     "metadata": {},
     "output_type": "execute_result"
    }
   ],
   "source": [
    "sum1(10)"
   ]
  },
  {
   "cell_type": "code",
   "execution_count": 19,
   "metadata": {},
   "outputs": [],
   "source": [
    "def sum2(n):\n",
    "    return (n*(n+1))/2"
   ]
  },
  {
   "cell_type": "code",
   "execution_count": 20,
   "metadata": {},
   "outputs": [
    {
     "data": {
      "text/plain": [
       "55.0"
      ]
     },
     "execution_count": 20,
     "metadata": {},
     "output_type": "execute_result"
    }
   ],
   "source": [
    "sum2(10)"
   ]
  },
  {
   "cell_type": "code",
   "execution_count": 21,
   "metadata": {},
   "outputs": [
    {
     "name": "stdout",
     "output_type": "stream",
     "text": [
      "1.04 µs ± 14.3 ns per loop (mean ± std. dev. of 7 runs, 1000000 loops each)\n"
     ]
    }
   ],
   "source": [
    "%timeit sum1(10)"
   ]
  },
  {
   "cell_type": "code",
   "execution_count": 22,
   "metadata": {},
   "outputs": [
    {
     "name": "stdout",
     "output_type": "stream",
     "text": [
      "207 ns ± 10.9 ns per loop (mean ± std. dev. of 7 runs, 1000000 loops each)\n"
     ]
    }
   ],
   "source": [
    "%timeit sum2(10)"
   ]
  },
  {
   "cell_type": "code",
   "execution_count": null,
   "metadata": {},
   "outputs": [],
   "source": []
  },
  {
   "cell_type": "code",
   "execution_count": null,
   "metadata": {},
   "outputs": [],
   "source": [
    "%timeit def sum3()"
   ]
  },
  {
   "cell_type": "code",
   "execution_count": 36,
   "metadata": {},
   "outputs": [],
   "source": [
    "a = [1,2,3]\n",
    "b = [2,4,5]"
   ]
  },
  {
   "cell_type": "code",
   "execution_count": 37,
   "metadata": {},
   "outputs": [],
   "source": [
    "c = a.append(b)"
   ]
  },
  {
   "cell_type": "code",
   "execution_count": 39,
   "metadata": {},
   "outputs": [],
   "source": [
    "c"
   ]
  },
  {
   "cell_type": "markdown",
   "metadata": {},
   "source": [
    "### AKUNA CAPITAL"
   ]
  },
  {
   "cell_type": "code",
   "execution_count": 40,
   "metadata": {},
   "outputs": [],
   "source": [
    "adj_mat = [[None, 10 ,22], [11, None, None], [20, None, None]]\n",
    "origin = 2"
   ]
  },
  {
   "cell_type": "code",
   "execution_count": 86,
   "metadata": {},
   "outputs": [],
   "source": [
    "def find_length(origin, adj_mat):\n",
    "    adj_new = []\n",
    "    for a in adj_mat:\n",
    "        adj_new.append([0 if x==None else x for x in a])\n",
    "    total_nodes = len(adj_new)\n",
    "    select_node = adj_new[origin]\n",
    "    print(select_node)\n",
    "    \n",
    "    \n",
    "    "
   ]
  },
  {
   "cell_type": "code",
   "execution_count": 87,
   "metadata": {},
   "outputs": [
    {
     "name": "stdout",
     "output_type": "stream",
     "text": [
      "[20, 0, 0]\n"
     ]
    }
   ],
   "source": [
    "find_length(2, [[None, 10 ,22], [11, None, None], [20, None, None]])"
   ]
  },
  {
   "cell_type": "code",
   "execution_count": 78,
   "metadata": {},
   "outputs": [
    {
     "data": {
      "text/plain": [
       "[[0, 10, 22], [11, 0, 0], [20, 0, 0]]"
      ]
     },
     "execution_count": 78,
     "metadata": {},
     "output_type": "execute_result"
    }
   ],
   "source": [
    "b"
   ]
  },
  {
   "cell_type": "code",
   "execution_count": 58,
   "metadata": {},
   "outputs": [
    {
     "name": "stdout",
     "output_type": "stream",
     "text": [
      "[2, 1, 5, 10, 23, 49, 90]\n",
      "[2, 1, 10, 5, 23, 49, 90]\n",
      "[2, 1, 10, 5, 49, 23, 90]\n"
     ]
    }
   ],
   "source": [
    "def sort(arr):\n",
    "    n  = len(arr)\n",
    "    arr.sort()    \n",
    "    for i in range(0,n-1,2):\n",
    "        arr[i], arr[i+1] = arr[i+1], arr[i]\n",
    "        print(arr)\n",
    "        \n",
    "arr = [10, 90, 49, 2, 1, 5, 23]\n",
    "sort(arr)\n"
   ]
  },
  {
   "cell_type": "code",
   "execution_count": null,
   "metadata": {},
   "outputs": [],
   "source": []
  },
  {
   "cell_type": "code",
   "execution_count": 60,
   "metadata": {},
   "outputs": [
    {
     "data": {
      "text/plain": [
       "[4, 6, 8]"
      ]
     },
     "execution_count": 60,
     "metadata": {},
     "output_type": "execute_result"
    }
   ],
   "source": [
    "list(range(4, 10, 2))"
   ]
  },
  {
   "cell_type": "code",
   "execution_count": 63,
   "metadata": {},
   "outputs": [
    {
     "data": {
      "text/plain": [
       "[2, 4, 6, 8]"
      ]
     },
     "execution_count": 63,
     "metadata": {},
     "output_type": "execute_result"
    }
   ],
   "source": [
    "list(range(2,10,2))"
   ]
  },
  {
   "cell_type": "code",
   "execution_count": null,
   "metadata": {},
   "outputs": [],
   "source": []
  },
  {
   "cell_type": "markdown",
   "metadata": {},
   "source": [
    "## DYNAMIC ARRAYS"
   ]
  },
  {
   "cell_type": "code",
   "execution_count": 108,
   "metadata": {},
   "outputs": [],
   "source": [
    "class M(object):\n",
    "    def public(self):\n",
    "        print(\"Public\")\n",
    "    def _private(self):\n",
    "        print(\"Private\")"
   ]
  },
  {
   "cell_type": "code",
   "execution_count": 109,
   "metadata": {},
   "outputs": [],
   "source": [
    "m = M()"
   ]
  },
  {
   "cell_type": "code",
   "execution_count": 110,
   "metadata": {},
   "outputs": [
    {
     "name": "stdout",
     "output_type": "stream",
     "text": [
      "Private\n"
     ]
    }
   ],
   "source": [
    "m._private()"
   ]
  },
  {
   "cell_type": "code",
   "execution_count": 122,
   "metadata": {},
   "outputs": [],
   "source": [
    "a = [1,2,3,4]"
   ]
  },
  {
   "cell_type": "code",
   "execution_count": 123,
   "metadata": {},
   "outputs": [
    {
     "data": {
      "text/plain": [
       "96"
      ]
     },
     "execution_count": 123,
     "metadata": {},
     "output_type": "execute_result"
    }
   ],
   "source": [
    "import sys\n",
    "sys.getsizeof(a)"
   ]
  },
  {
   "cell_type": "markdown",
   "metadata": {},
   "source": [
    "### Anagram"
   ]
  },
  {
   "cell_type": "code",
   "execution_count": 166,
   "metadata": {},
   "outputs": [],
   "source": [
    "s1 = 'kartik nagre'\n",
    "s2 = 'nagre kartik'"
   ]
  },
  {
   "cell_type": "code",
   "execution_count": 167,
   "metadata": {},
   "outputs": [],
   "source": [
    "from collections import Counter\n",
    "def anagram1(s1, s2):\n",
    "    c1 = Counter(s1.replace(\" \",\"\"))\n",
    "    c2 = Counter(s2.replace(\" \", \"\"))\n",
    "    d1 = dict(c1)\n",
    "    d2 = dict(c2)\n",
    "    return(d1 == d2)"
   ]
  },
  {
   "cell_type": "code",
   "execution_count": 168,
   "metadata": {},
   "outputs": [
    {
     "data": {
      "text/plain": [
       "True"
      ]
     },
     "execution_count": 168,
     "metadata": {},
     "output_type": "execute_result"
    }
   ],
   "source": [
    "anagram1(s1, s2)"
   ]
  },
  {
   "cell_type": "code",
   "execution_count": 173,
   "metadata": {},
   "outputs": [],
   "source": [
    "def anagram2(s1, s2):\n",
    "    s1T = s1.replace(\" \", \"\").lower()\n",
    "    s2T = s2.replace(\" \", \"\").lower()\n",
    "    if len(s1) != len(s2):\n",
    "        return False\n",
    "    dict1 = {}\n",
    "    dict2 = {}\n",
    "    for char in s1T:    \n",
    "        if char in dict1:\n",
    "            dict1[char] += 1\n",
    "        else:\n",
    "            dict1[char] = 1\n",
    "\n",
    "    for char in s2T:    \n",
    "        if char in dict2:\n",
    "            dict2[char] += 1\n",
    "        else:\n",
    "            dict2[char] = 1\n",
    "    return(dict1==dict2)"
   ]
  },
  {
   "cell_type": "code",
   "execution_count": 174,
   "metadata": {},
   "outputs": [
    {
     "data": {
      "text/plain": [
       "True"
      ]
     },
     "execution_count": 174,
     "metadata": {},
     "output_type": "execute_result"
    }
   ],
   "source": [
    "anagram2(s1, s2)"
   ]
  },
  {
   "cell_type": "code",
   "execution_count": 14,
   "metadata": {},
   "outputs": [],
   "source": [
    "def ana(s1,s2):\n",
    "    s1 = s1.replace(' ','').lower()\n",
    "    s2 = s2.replace(' ','').lower()\n",
    "    d1 = {}\n",
    "    d2 = {}\n",
    "    if len(s1)!=len(s2):\n",
    "        return False\n",
    "    for w in s1:\n",
    "        if w in d1:\n",
    "            d1[w] += 1\n",
    "        else:            \n",
    "            d1[w] = 1\n",
    "    for w in s2:\n",
    "        if w in d2:\n",
    "            d2[w] += 1\n",
    "        else:            \n",
    "            d2[w] = 1\n",
    "    print(d1)\n",
    "    print(d2)\n",
    "    return(d1==d2)\n",
    "        "
   ]
  },
  {
   "cell_type": "code",
   "execution_count": 15,
   "metadata": {},
   "outputs": [
    {
     "data": {
      "text/plain": [
       "False"
      ]
     },
     "execution_count": 15,
     "metadata": {},
     "output_type": "execute_result"
    }
   ],
   "source": [
    "ana('kartik', 'kaetrik')"
   ]
  },
  {
   "cell_type": "markdown",
   "metadata": {},
   "source": [
    "### Sum Pair"
   ]
  },
  {
   "cell_type": "code",
   "execution_count": 192,
   "metadata": {},
   "outputs": [],
   "source": [
    "arr = [1,3,2,2]\n",
    "num = 4"
   ]
  },
  {
   "cell_type": "code",
   "execution_count": 212,
   "metadata": {},
   "outputs": [],
   "source": [
    "def pair_sum_new(arr, k):\n",
    "    seen = set()\n",
    "    output = set()\n",
    "    for num in arr:\n",
    "        print(\"num \", num)\n",
    "        target = k - num\n",
    "        print(\"target \", target)\n",
    "        if target not in seen:\n",
    "            seen.add(num)\n",
    "            print(\"seen \", seen)\n",
    "        else:\n",
    "            output.add((num, target))\n",
    "            print(\"output \", output)"
   ]
  },
  {
   "cell_type": "code",
   "execution_count": 213,
   "metadata": {},
   "outputs": [
    {
     "name": "stdout",
     "output_type": "stream",
     "text": [
      "num  1\n",
      "target  3\n",
      "seen  {1}\n",
      "num  3\n",
      "target  1\n",
      "output  {(3, 1)}\n",
      "num  2\n",
      "target  2\n",
      "seen  {1, 2}\n",
      "num  2\n",
      "target  2\n",
      "output  {(3, 1), (2, 2)}\n"
     ]
    }
   ],
   "source": [
    "pair_sum_new(arr, num)"
   ]
  },
  {
   "cell_type": "markdown",
   "metadata": {},
   "source": [
    "### Find missing number"
   ]
  },
  {
   "cell_type": "code",
   "execution_count": 1,
   "metadata": {},
   "outputs": [],
   "source": [
    "# arr1 = [1,2,3,4,5,6,7]\n",
    "# arr2 = [3,7,2,1,4,6]\n",
    "arr1 = [5,5,7,7,8]\n",
    "arr2 = [5,7,7,5]"
   ]
  },
  {
   "cell_type": "code",
   "execution_count": 2,
   "metadata": {},
   "outputs": [],
   "source": [
    "def miss(arr1, arr2):\n",
    "    d1 = {}\n",
    "    for n in arr1:\n",
    "        if n in d1:            \n",
    "            d1[n] += 1\n",
    "        else:\n",
    "            d1[n] = 1\n",
    "    \n",
    "    for n in arr2:\n",
    "        d1[n] -= 1\n",
    "    for k,v in d1.items():\n",
    "        if v != 0:\n",
    "            return k\n",
    "        "
   ]
  },
  {
   "cell_type": "code",
   "execution_count": 3,
   "metadata": {},
   "outputs": [
    {
     "data": {
      "text/plain": [
       "8"
      ]
     },
     "execution_count": 3,
     "metadata": {},
     "output_type": "execute_result"
    }
   ],
   "source": [
    "miss(arr1, arr2)"
   ]
  },
  {
   "cell_type": "code",
   "execution_count": 264,
   "metadata": {},
   "outputs": [],
   "source": [
    "from collections import defaultdict\n",
    "def missing2(arr1, arr2):\n",
    "    d = defaultdict(int)\n",
    "    for num in arr2:\n",
    "        d[num] += 1\n",
    "    for num in arr1:\n",
    "        print(num)\n",
    "        print(d)\n",
    "        if d[num] == 0:\n",
    "            return num\n",
    "        else:\n",
    "            d[num] -= 1\n",
    "            print(d)"
   ]
  },
  {
   "cell_type": "code",
   "execution_count": 265,
   "metadata": {},
   "outputs": [
    {
     "name": "stdout",
     "output_type": "stream",
     "text": [
      "5\n",
      "defaultdict(<class 'int'>, {5: 2, 7: 2})\n",
      "defaultdict(<class 'int'>, {5: 1, 7: 2})\n",
      "5\n",
      "defaultdict(<class 'int'>, {5: 1, 7: 2})\n",
      "defaultdict(<class 'int'>, {5: 0, 7: 2})\n",
      "7\n",
      "defaultdict(<class 'int'>, {5: 0, 7: 2})\n",
      "defaultdict(<class 'int'>, {5: 0, 7: 1})\n",
      "7\n",
      "defaultdict(<class 'int'>, {5: 0, 7: 1})\n",
      "defaultdict(<class 'int'>, {5: 0, 7: 0})\n",
      "8\n",
      "defaultdict(<class 'int'>, {5: 0, 7: 0})\n"
     ]
    },
    {
     "data": {
      "text/plain": [
       "8"
      ]
     },
     "execution_count": 265,
     "metadata": {},
     "output_type": "execute_result"
    }
   ],
   "source": [
    "missing2(arr1, arr2)"
   ]
  },
  {
   "cell_type": "markdown",
   "metadata": {},
   "source": [
    "### Largest continuous Sum"
   ]
  },
  {
   "cell_type": "code",
   "execution_count": 1,
   "metadata": {},
   "outputs": [],
   "source": [
    "def continuous(arr):\n",
    "    if len(arr) == 0:\n",
    "        return 0\n",
    "    max_sum = current_sum = arr[0]\n",
    "    for num in arr[1:]:\n",
    "        current_sum = max(num, current_sum+num)\n",
    "        max_sum = max(current_sum, max_sum)\n",
    "    return max_sum            \n",
    "    "
   ]
  },
  {
   "cell_type": "code",
   "execution_count": 3,
   "metadata": {},
   "outputs": [
    {
     "data": {
      "text/plain": [
       "10"
      ]
     },
     "execution_count": 3,
     "metadata": {},
     "output_type": "execute_result"
    }
   ],
   "source": [
    "arr = [1,2,3,4,-9]\n",
    "continuous(arr)"
   ]
  },
  {
   "cell_type": "markdown",
   "metadata": {},
   "source": [
    "### Sentence Reversal"
   ]
  },
  {
   "cell_type": "code",
   "execution_count": null,
   "metadata": {},
   "outputs": [],
   "source": [
    "def sen_rev(s):\n",
    "    "
   ]
  },
  {
   "cell_type": "code",
   "execution_count": 5,
   "metadata": {},
   "outputs": [
    {
     "data": {
      "text/plain": [
       "'pagal nagre kartik'"
      ]
     },
     "execution_count": 5,
     "metadata": {},
     "output_type": "execute_result"
    }
   ],
   "source": [
    "s = 'kartik nagre pagal'\n",
    "s_arr = s.split()\n",
    "count = len(s.split())-1\n",
    "arr = []\n",
    "while count >= 0:\n",
    "    arr.append(s_arr[count])\n",
    "    count = count -1\n",
    "' '.join(arr)"
   ]
  },
  {
   "cell_type": "code",
   "execution_count": 13,
   "metadata": {},
   "outputs": [
    {
     "data": {
      "text/plain": [
       "'pagal nagre kartik'"
      ]
     },
     "execution_count": 13,
     "metadata": {},
     "output_type": "execute_result"
    }
   ],
   "source": [
    "count = len(s.split())-1\n",
    "ans = []\n",
    "for i in  range(count, -1, -1):\n",
    "    ans.append(s_arr[i])\n",
    "' '.join(ans)"
   ]
  },
  {
   "cell_type": "code",
   "execution_count": 37,
   "metadata": {},
   "outputs": [
    {
     "name": "stdout",
     "output_type": "stream",
     "text": [
      "pagal nagre kartik\n"
     ]
    }
   ],
   "source": [
    "s = 'kartik nagre pagal'\n",
    "res = []\n",
    "s_arr = s.split()\n",
    "for i in range(len(s_arr) - 1, -1, -1):\n",
    "    res.append(s_arr[i])\n",
    "print(' '.join(res))"
   ]
  },
  {
   "cell_type": "markdown",
   "metadata": {},
   "source": [
    "### String Compression"
   ]
  },
  {
   "cell_type": "code",
   "execution_count": 15,
   "metadata": {},
   "outputs": [
    {
     "name": "stdout",
     "output_type": "stream",
     "text": [
      "{'A': 3, 'B': 3, 'C': 5, 'D': 2, 'E': 2, 'z': 3, 'a': 2}\n",
      "A3B3C5D2E2z3a2\n"
     ]
    }
   ],
   "source": [
    "import collections\n",
    "a = 'AAABBBCCCCCDDEEzzzaa'\n",
    "#d = collections.OrderedDict()\n",
    "d = {}\n",
    "for char in a:\n",
    "    if char in d:        \n",
    "        d[char] += 1\n",
    "    else:\n",
    "        d[char] = 1\n",
    "print(d)        \n",
    "new_s = ''\n",
    "for key,val in d.items():\n",
    "    new_s = new_s + key + str(val)\n",
    "print(new_s)    "
   ]
  },
  {
   "cell_type": "markdown",
   "metadata": {},
   "source": [
    "### Unique chars in string"
   ]
  },
  {
   "cell_type": "code",
   "execution_count": 17,
   "metadata": {},
   "outputs": [],
   "source": [
    "def unique_chars(s):\n",
    "    #s = 'aabbcc'\n",
    "    d = {}\n",
    "    for char in s:\n",
    "        if char in d:\n",
    "            d[char] += 1\n",
    "        else:\n",
    "            d[char] = 1\n",
    "    for key,value in d.items():\n",
    "        if value > 1:\n",
    "            return False\n",
    "    return True    "
   ]
  },
  {
   "cell_type": "code",
   "execution_count": 19,
   "metadata": {},
   "outputs": [
    {
     "data": {
      "text/plain": [
       "False"
      ]
     },
     "execution_count": 19,
     "metadata": {},
     "output_type": "execute_result"
    }
   ],
   "source": [
    "s = 'abcdefgsownn'\n",
    "unique_chars(s)"
   ]
  },
  {
   "cell_type": "code",
   "execution_count": null,
   "metadata": {},
   "outputs": [],
   "source": []
  }
 ],
 "metadata": {
  "kernelspec": {
   "display_name": "Python 3",
   "language": "python",
   "name": "python3"
  },
  "language_info": {
   "codemirror_mode": {
    "name": "ipython",
    "version": 3
   },
   "file_extension": ".py",
   "mimetype": "text/x-python",
   "name": "python",
   "nbconvert_exporter": "python",
   "pygments_lexer": "ipython3",
   "version": "3.6.3"
  }
 },
 "nbformat": 4,
 "nbformat_minor": 2
}
