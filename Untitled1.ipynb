{
 "cells": [
  {
   "cell_type": "code",
   "execution_count": 10,
   "metadata": {},
   "outputs": [],
   "source": [
    "def missing_ranges(arr):\n",
    "    output_list = []\n",
    "    final_list = []\n",
    "    for i in range(len(arr)-1):\n",
    "        if(arr[i+1] - arr[i]) > 1:\n",
    "            output_list.append((arr[i]+1,arr[i+1] -1))\n",
    "    \n",
    "    if arr[len(arr)-1] != 99:\n",
    "        output_list.append((arr[len(arr)-1]+1,99))\n",
    "        \n",
    "    for t in output_list:\n",
    "        if t[0]==t[1]:\n",
    "            final_list.append(str(t[0]))\n",
    "        else:\n",
    "            final_list.append(str(t[0]) + \"->\" + str(t[1]))\n",
    "        \n",
    "    return final_list\n",
    "    "
   ]
  },
  {
   "cell_type": "code",
   "execution_count": 11,
   "metadata": {},
   "outputs": [
    {
     "data": {
      "text/plain": [
       "['6->49', '51->99']"
      ]
     },
     "execution_count": 11,
     "metadata": {},
     "output_type": "execute_result"
    }
   ],
   "source": [
    "missing_ranges([1,2,3,4,5, 50])"
   ]
  },
  {
   "cell_type": "code",
   "execution_count": 9,
   "metadata": {},
   "outputs": [
    {
     "name": "stdout",
     "output_type": "stream",
     "text": [
      "Once deleted, variables cannot be recovered. Proceed (y/[n])? y\n"
     ]
    }
   ],
   "source": [
    "%reset"
   ]
  },
  {
   "cell_type": "code",
   "execution_count": null,
   "metadata": {},
   "outputs": [],
   "source": []
  }
 ],
 "metadata": {
  "kernelspec": {
   "display_name": "Python 3",
   "language": "python",
   "name": "python3"
  },
  "language_info": {
   "codemirror_mode": {
    "name": "ipython",
    "version": 3
   },
   "file_extension": ".py",
   "mimetype": "text/x-python",
   "name": "python",
   "nbconvert_exporter": "python",
   "pygments_lexer": "ipython3",
   "version": "3.6.3"
  }
 },
 "nbformat": 4,
 "nbformat_minor": 2
}
