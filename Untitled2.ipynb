{
 "cells": [
  {
   "cell_type": "code",
   "execution_count": 34,
   "metadata": {},
   "outputs": [],
   "source": [
    "import itertools\n",
    "class Solution:\n",
    "    def largest_number(self, nums):\n",
    "        nums = [str(x) for x in nums]\n",
    "        n_list = []\n",
    "        poss_permutations = itertools.permutations(nums)\n",
    "        for perm in poss_permutations:\n",
    "            permutated_num = \"\".join(perm)\n",
    "            n_list.append(permutated_num)\n",
    "\n",
    "        sorted_numlist = sorted(n_list)\n",
    "        return sorted_numlist[-1] "
   ]
  },
  {
   "cell_type": "code",
   "execution_count": 35,
   "metadata": {},
   "outputs": [
    {
     "data": {
      "text/plain": [
       "'9534330'"
      ]
     },
     "execution_count": 35,
     "metadata": {},
     "output_type": "execute_result"
    }
   ],
   "source": [
    "S = Solution()\n",
    "S.largest_number([9, 5, 30, 3, 34])\n",
    "#S.largest_number(['9', '5', '30', '3', '34'])"
   ]
  },
  {
   "cell_type": "code",
   "execution_count": null,
   "metadata": {},
   "outputs": [],
   "source": []
  },
  {
   "cell_type": "code",
   "execution_count": null,
   "metadata": {},
   "outputs": [],
   "source": []
  },
  {
   "cell_type": "code",
   "execution_count": null,
   "metadata": {},
   "outputs": [],
   "source": [
    "def find_largest(i):\n",
    "    divisor = 9\n",
    "    while divisor < i:\n",
    "        divisor = 10*(divisor+9)\n",
    "    return i/divisor"
   ]
  },
  {
   "cell_type": "code",
   "execution_count": null,
   "metadata": {},
   "outputs": [],
   "source": [
    "l2 = sorted(l1, key=find_largest, reverse=True)\n",
    "l2 = [str(x) for x in l2]\n",
    "''.join(l2)"
   ]
  },
  {
   "cell_type": "code",
   "execution_count": 11,
   "metadata": {},
   "outputs": [],
   "source": [
    "poss_permutations = itertools.permutations([9, 5, 30, 3, 34])"
   ]
  },
  {
   "cell_type": "code",
   "execution_count": 12,
   "metadata": {},
   "outputs": [
    {
     "data": {
      "text/plain": [
       "[(9, 5, 30, 3, 34),\n",
       " (9, 5, 30, 34, 3),\n",
       " (9, 5, 3, 30, 34),\n",
       " (9, 5, 3, 34, 30),\n",
       " (9, 5, 34, 30, 3),\n",
       " (9, 5, 34, 3, 30),\n",
       " (9, 30, 5, 3, 34),\n",
       " (9, 30, 5, 34, 3),\n",
       " (9, 30, 3, 5, 34),\n",
       " (9, 30, 3, 34, 5),\n",
       " (9, 30, 34, 5, 3),\n",
       " (9, 30, 34, 3, 5),\n",
       " (9, 3, 5, 30, 34),\n",
       " (9, 3, 5, 34, 30),\n",
       " (9, 3, 30, 5, 34),\n",
       " (9, 3, 30, 34, 5),\n",
       " (9, 3, 34, 5, 30),\n",
       " (9, 3, 34, 30, 5),\n",
       " (9, 34, 5, 30, 3),\n",
       " (9, 34, 5, 3, 30),\n",
       " (9, 34, 30, 5, 3),\n",
       " (9, 34, 30, 3, 5),\n",
       " (9, 34, 3, 5, 30),\n",
       " (9, 34, 3, 30, 5),\n",
       " (5, 9, 30, 3, 34),\n",
       " (5, 9, 30, 34, 3),\n",
       " (5, 9, 3, 30, 34),\n",
       " (5, 9, 3, 34, 30),\n",
       " (5, 9, 34, 30, 3),\n",
       " (5, 9, 34, 3, 30),\n",
       " (5, 30, 9, 3, 34),\n",
       " (5, 30, 9, 34, 3),\n",
       " (5, 30, 3, 9, 34),\n",
       " (5, 30, 3, 34, 9),\n",
       " (5, 30, 34, 9, 3),\n",
       " (5, 30, 34, 3, 9),\n",
       " (5, 3, 9, 30, 34),\n",
       " (5, 3, 9, 34, 30),\n",
       " (5, 3, 30, 9, 34),\n",
       " (5, 3, 30, 34, 9),\n",
       " (5, 3, 34, 9, 30),\n",
       " (5, 3, 34, 30, 9),\n",
       " (5, 34, 9, 30, 3),\n",
       " (5, 34, 9, 3, 30),\n",
       " (5, 34, 30, 9, 3),\n",
       " (5, 34, 30, 3, 9),\n",
       " (5, 34, 3, 9, 30),\n",
       " (5, 34, 3, 30, 9),\n",
       " (30, 9, 5, 3, 34),\n",
       " (30, 9, 5, 34, 3),\n",
       " (30, 9, 3, 5, 34),\n",
       " (30, 9, 3, 34, 5),\n",
       " (30, 9, 34, 5, 3),\n",
       " (30, 9, 34, 3, 5),\n",
       " (30, 5, 9, 3, 34),\n",
       " (30, 5, 9, 34, 3),\n",
       " (30, 5, 3, 9, 34),\n",
       " (30, 5, 3, 34, 9),\n",
       " (30, 5, 34, 9, 3),\n",
       " (30, 5, 34, 3, 9),\n",
       " (30, 3, 9, 5, 34),\n",
       " (30, 3, 9, 34, 5),\n",
       " (30, 3, 5, 9, 34),\n",
       " (30, 3, 5, 34, 9),\n",
       " (30, 3, 34, 9, 5),\n",
       " (30, 3, 34, 5, 9),\n",
       " (30, 34, 9, 5, 3),\n",
       " (30, 34, 9, 3, 5),\n",
       " (30, 34, 5, 9, 3),\n",
       " (30, 34, 5, 3, 9),\n",
       " (30, 34, 3, 9, 5),\n",
       " (30, 34, 3, 5, 9),\n",
       " (3, 9, 5, 30, 34),\n",
       " (3, 9, 5, 34, 30),\n",
       " (3, 9, 30, 5, 34),\n",
       " (3, 9, 30, 34, 5),\n",
       " (3, 9, 34, 5, 30),\n",
       " (3, 9, 34, 30, 5),\n",
       " (3, 5, 9, 30, 34),\n",
       " (3, 5, 9, 34, 30),\n",
       " (3, 5, 30, 9, 34),\n",
       " (3, 5, 30, 34, 9),\n",
       " (3, 5, 34, 9, 30),\n",
       " (3, 5, 34, 30, 9),\n",
       " (3, 30, 9, 5, 34),\n",
       " (3, 30, 9, 34, 5),\n",
       " (3, 30, 5, 9, 34),\n",
       " (3, 30, 5, 34, 9),\n",
       " (3, 30, 34, 9, 5),\n",
       " (3, 30, 34, 5, 9),\n",
       " (3, 34, 9, 5, 30),\n",
       " (3, 34, 9, 30, 5),\n",
       " (3, 34, 5, 9, 30),\n",
       " (3, 34, 5, 30, 9),\n",
       " (3, 34, 30, 9, 5),\n",
       " (3, 34, 30, 5, 9),\n",
       " (34, 9, 5, 30, 3),\n",
       " (34, 9, 5, 3, 30),\n",
       " (34, 9, 30, 5, 3),\n",
       " (34, 9, 30, 3, 5),\n",
       " (34, 9, 3, 5, 30),\n",
       " (34, 9, 3, 30, 5),\n",
       " (34, 5, 9, 30, 3),\n",
       " (34, 5, 9, 3, 30),\n",
       " (34, 5, 30, 9, 3),\n",
       " (34, 5, 30, 3, 9),\n",
       " (34, 5, 3, 9, 30),\n",
       " (34, 5, 3, 30, 9),\n",
       " (34, 30, 9, 5, 3),\n",
       " (34, 30, 9, 3, 5),\n",
       " (34, 30, 5, 9, 3),\n",
       " (34, 30, 5, 3, 9),\n",
       " (34, 30, 3, 9, 5),\n",
       " (34, 30, 3, 5, 9),\n",
       " (34, 3, 9, 5, 30),\n",
       " (34, 3, 9, 30, 5),\n",
       " (34, 3, 5, 9, 30),\n",
       " (34, 3, 5, 30, 9),\n",
       " (34, 3, 30, 9, 5),\n",
       " (34, 3, 30, 5, 9)]"
      ]
     },
     "execution_count": 12,
     "metadata": {},
     "output_type": "execute_result"
    }
   ],
   "source": [
    "list(poss_permutations)"
   ]
  },
  {
   "cell_type": "code",
   "execution_count": null,
   "metadata": {},
   "outputs": [],
   "source": []
  },
  {
   "cell_type": "code",
   "execution_count": null,
   "metadata": {},
   "outputs": [],
   "source": []
  },
  {
   "cell_type": "code",
   "execution_count": null,
   "metadata": {},
   "outputs": [],
   "source": []
  },
  {
   "cell_type": "code",
   "execution_count": 25,
   "metadata": {},
   "outputs": [],
   "source": [
    "data = [\n",
    "    [50, 2, 1, 9],\n",
    "    [10, 1],\n",
    "    [2, 23, 21],\n",
    "]"
   ]
  },
  {
   "cell_type": "code",
   "execution_count": null,
   "metadata": {},
   "outputs": [],
   "source": []
  },
  {
   "cell_type": "code",
   "execution_count": null,
   "metadata": {},
   "outputs": [],
   "source": []
  }
 ],
 "metadata": {
  "kernelspec": {
   "display_name": "Python 3",
   "language": "python",
   "name": "python3"
  },
  "language_info": {
   "codemirror_mode": {
    "name": "ipython",
    "version": 3
   },
   "file_extension": ".py",
   "mimetype": "text/x-python",
   "name": "python",
   "nbconvert_exporter": "python",
   "pygments_lexer": "ipython3",
   "version": "3.6.3"
  }
 },
 "nbformat": 4,
 "nbformat_minor": 2
}
