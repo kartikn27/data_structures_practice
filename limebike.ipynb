{
 "cells": [
  {
   "cell_type": "code",
   "execution_count": 227,
   "metadata": {},
   "outputs": [],
   "source": [
    "class ItemCounter(object):\n",
    "    \n",
    "    def __init__(self):\n",
    "        self.time_list = []\n",
    "        self.output = []\n",
    "    def process_ride(self, rides):\n",
    "\n",
    "        for ride in rides:\n",
    "            self.time_list.append(ride['start'])\n",
    "            self.time_list.append(ride['end'])            \n",
    "        self.time_list.sort()\n",
    "        \n",
    "        for i in range(0, len(self.time_list) - 1):\n",
    "            self.output_dict = {}\n",
    "            self.output_dict['from'] = self.time_list[i]\n",
    "            self.output_dict['to'] = self.time_list[i+1] \n",
    "            self.output.append(self.output_dict)\n",
    "        print(\">>>>\",self.output)\n",
    "        \n",
    "        new_input_list = []\n",
    "        for input_dict in rides:\n",
    "            new_input_dict = {}\n",
    "            if ',' in input_dict['items']:\n",
    "                items_list = input_dict['items'].split(',')\n",
    "                for item in items_list:\n",
    "                    \n",
    "                    if item.split()[1][len(item.split()[1]) - 1] == 's':\n",
    "                        new_input_dict[item.split()[1][:len(item.split()[1]) - 1]] = int(item.split()[0])\n",
    "                    else:\n",
    "                        new_input_dict[item.split()[1]] = int(item.split()[0])\n",
    "                    new_input_dict['start'] = input_dict['start']\n",
    "                    new_input_dict['end'] = input_dict['end']                    \n",
    "                new_input_list.append(new_input_dict)\n",
    "            else:\n",
    "                new_input_dict[input_dict['items'].split()[1]] = int(input_dict['items'].split()[0])\n",
    "                new_input_dict['start'] = input_dict['start']\n",
    "                new_input_dict['end'] = input_dict['end']    \n",
    "                new_input_list.append(new_input_dict)                \n",
    "        print(\"input>>>\",new_input_list)\n",
    "        \n",
    "        \n",
    "        for i in self.output:\n",
    "            for j in new_input_list:\n",
    "                if i['from'] >= j['start'] and i['to'] <= j['end']:\n",
    "                    print(j.keys() - i.keys())\n",
    "                    \n",
    "        \n",
    "        \n",
    "        return self.time_list\n",
    "    \n",
    "    def print_items_per_interval(self):\n",
    "        return 1\n",
    "    \n",
    "    \n",
    "        "
   ]
  },
  {
   "cell_type": "code",
   "execution_count": 228,
   "metadata": {},
   "outputs": [],
   "source": [
    "obj = ItemCounter()"
   ]
  },
  {
   "cell_type": "code",
   "execution_count": 229,
   "metadata": {},
   "outputs": [
    {
     "name": "stdout",
     "output_type": "stream",
     "text": [
      ">>>> [{'from': '7:00', 'to': '7:10'}, {'from': '7:10', 'to': '7:20'}, {'from': '7:20', 'to': '7:30'}, {'from': '7:30', 'to': '7:45'}, {'from': '7:45', 'to': '8:00'}]\n",
      "input>>> [{'apple': 2, 'start': '7:00', 'end': '7:30', 'brownie': 1}, {'apple': 1, 'start': '7:10', 'end': '8:00', 'carrot': 3}, {'apple': 1, 'start': '7:20', 'end': '7:45', 'brownie': 2, 'diamond': 4}]\n",
      "{'brownie', 'start', 'end', 'apple'}\n",
      "{'brownie', 'start', 'end', 'apple'}\n",
      "{'carrot', 'start', 'end', 'apple'}\n",
      "{'brownie', 'start', 'end', 'apple'}\n",
      "{'carrot', 'start', 'end', 'apple'}\n",
      "{'apple', 'diamond', 'brownie', 'start', 'end'}\n",
      "{'carrot', 'start', 'end', 'apple'}\n",
      "{'apple', 'diamond', 'brownie', 'start', 'end'}\n",
      "{'carrot', 'start', 'end', 'apple'}\n"
     ]
    },
    {
     "data": {
      "text/plain": [
       "['7:00', '7:10', '7:20', '7:30', '7:45', '8:00']"
      ]
     },
     "execution_count": 229,
     "metadata": {},
     "output_type": "execute_result"
    }
   ],
   "source": [
    "obj.process_ride(ride_input)"
   ]
  },
  {
   "cell_type": "code",
   "execution_count": 230,
   "metadata": {},
   "outputs": [],
   "source": [
    "ride_input  = [{'start': '7:00','end' : '7:30', 'items': '2 apples, 1 brownie'}, {'start': '7:10', 'end': '8:00', 'items': '1 apple, 3 carrots'}, {'start': '7:20', 'end': '7:45', 'items': '1 apple, 2 brownies, 4 diamonds'}]"
   ]
  },
  {
   "cell_type": "code",
   "execution_count": 231,
   "metadata": {},
   "outputs": [
    {
     "data": {
      "text/plain": [
       "[{'end': '7:30', 'items': '2 apples, 1 brownie', 'start': '7:00'},\n",
       " {'end': '8:00', 'items': '1 apple, 3 carrots', 'start': '7:10'},\n",
       " {'end': '7:45', 'items': '1 apple, 2 brownies, 4 diamonds', 'start': '7:20'}]"
      ]
     },
     "execution_count": 231,
     "metadata": {},
     "output_type": "execute_result"
    }
   ],
   "source": [
    "ride_input"
   ]
  },
  {
   "cell_type": "code",
   "execution_count": null,
   "metadata": {},
   "outputs": [],
   "source": [
    "\n",
    "#         for output_ride in self.output:\n",
    "#             for input_ride in rides:\n",
    "#                 if output_ride['from'] >= input_ride['start'] and output_ride['to'] <= input_ride['end']:\n",
    "#                     if ',' in input_ride['items']:\n",
    "#                         items_list = input_ride['items'].split(',')\n",
    "#                         for item in items_list:\n",
    "#                             count = 0\n",
    "#                             count = count + int(item.split()[0])\n",
    "#                             output_ride[item.split()[1]] = count\n",
    "#                     else:\n",
    "#                         output_ride['item.split()[1]'] = int(items_list.split()[0])\n",
    "#                     print(output_ride)\n",
    "\n",
    "        \n",
    "        \n",
    "                        "
   ]
  },
  {
   "cell_type": "code",
   "execution_count": 245,
   "metadata": {},
   "outputs": [
    {
     "data": {
      "text/plain": [
       "['environment', 'concern1234625r222']"
      ]
     },
     "execution_count": 245,
     "metadata": {},
     "output_type": "execute_result"
    }
   ],
   "source": [
    "'environment concern1234625r222'.split()"
   ]
  },
  {
   "cell_type": "code",
   "execution_count": 247,
   "metadata": {},
   "outputs": [],
   "source": [
    "candidate_words = ['environment', 'concernskbskbksbhsbvhssdvkhsdvkdsvhdskcv']"
   ]
  },
  {
   "cell_type": "code",
   "execution_count": 248,
   "metadata": {},
   "outputs": [],
   "source": [
    "max_word_length = max(len(w) for w in candidate_words)"
   ]
  },
  {
   "cell_type": "code",
   "execution_count": 249,
   "metadata": {},
   "outputs": [
    {
     "data": {
      "text/plain": [
       "40"
      ]
     },
     "execution_count": 249,
     "metadata": {},
     "output_type": "execute_result"
    }
   ],
   "source": [
    "max_word_length"
   ]
  },
  {
   "cell_type": "code",
   "execution_count": 236,
   "metadata": {
    "scrolled": true
   },
   "outputs": [
    {
     "name": "stdout",
     "output_type": "stream",
     "text": [
      "1\n",
      "1\n",
      "1\n",
      "1\n",
      "1\n",
      "1\n",
      "1\n",
      "1\n",
      "1\n",
      "1\n",
      "1\n"
     ]
    }
   ],
   "source": [
    "for w in candidate_words:\n",
    "    print(len(w))"
   ]
  },
  {
   "cell_type": "code",
   "execution_count": null,
   "metadata": {},
   "outputs": [],
   "source": []
  }
 ],
 "metadata": {
  "kernelspec": {
   "display_name": "Python 3",
   "language": "python",
   "name": "python3"
  },
  "language_info": {
   "codemirror_mode": {
    "name": "ipython",
    "version": 3
   },
   "file_extension": ".py",
   "mimetype": "text/x-python",
   "name": "python",
   "nbconvert_exporter": "python",
   "pygments_lexer": "ipython3",
   "version": "3.6.3"
  }
 },
 "nbformat": 4,
 "nbformat_minor": 2
}
